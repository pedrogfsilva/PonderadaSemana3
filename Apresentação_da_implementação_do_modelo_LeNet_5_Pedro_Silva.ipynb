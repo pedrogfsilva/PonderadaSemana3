{
  "nbformat": 4,
  "nbformat_minor": 0,
  "metadata": {
    "colab": {
      "provenance": [],
      "authorship_tag": "ABX9TyN/WO/Vd4PBzb+fXf1wa3Nr",
      "include_colab_link": true
    },
    "kernelspec": {
      "name": "python3",
      "display_name": "Python 3"
    },
    "language_info": {
      "name": "python"
    }
  },
  "cells": [
    {
      "cell_type": "markdown",
      "metadata": {
        "id": "view-in-github",
        "colab_type": "text"
      },
      "source": [
        "<a href=\"https://colab.research.google.com/github/pedrogfsilva/PonderadaSemana3/blob/main/Apresenta%C3%A7%C3%A3o_da_implementa%C3%A7%C3%A3o_do_modelo_LeNet_5_Pedro_Silva.ipynb\" target=\"_parent\"><img src=\"https://colab.research.google.com/assets/colab-badge.svg\" alt=\"Open In Colab\"/></a>"
      ]
    },
    {
      "cell_type": "code",
      "execution_count": 18,
      "metadata": {
        "id": "OVvK9DayZfmO"
      },
      "outputs": [],
      "source": [
        "\"\"\"\n",
        "Contém as implementações de arquiteturas CNN.\n",
        "[LeNet5] - CNN inspirada na arquitetura de LeCun&nbsp;[1], com algumas\n",
        "alterações nas funções de ativação, padding e pooling.\n",
        "[1] http://yann.lecun.com/exdb/publis/pdf/lecun-01a.pdf\n",
        "\"\"\"\n",
        "import time\n",
        "import numpy as np\n",
        "import pandas as pd\n",
        "import matplotlib.pyplot as plt\n",
        "import random\n",
        "import tensorflow as tf\n",
        "from tensorflow.keras import datasets, layers, models\n",
        "\n",
        "import tensorflow_datasets as tfds\n",
        "\n",
        "class LeNet5(object):\n",
        "    \"\"\"\n",
        "    Arquitetura LeNet5 com pequenas alterações.\n",
        "    Com foco no reconhecimento de dígitos, esta CNN é composta\n",
        "    por uma sequência contendo os seguintes layers:\n",
        "    INPUT =&gt; CONV =&gt; POOL =&gt; CONV =&gt; POOL =&gt; FC =&gt; FC =&gt; OUTPUT\n",
        "    \"\"\"\n",
        "\n",
        "    @staticmethod\n",
        "    def build(width, height, channels, classes):\n",
        "        \"\"\"\n",
        "        Constroi uma CNN com arquitetura LeNet5.\n",
        "        :param width: Largura em pixel da imagem.\n",
        "        :param height: Altura em pixel da imagem.\n",
        "        :param channels: Quantidade de canais da imagem.\n",
        "        :param classes: Quantidade de classes para o output.\n",
        "        :return: Cnn do tipo LeNet5.\n",
        "        \"\"\"\n",
        "        inputShape = (height, width, channels)\n",
        "        model = models.Sequential()\n",
        "        model.add(layers.Conv2D(6, (5, 5), padding=\"same\",\n",
        "                         input_shape=inputShape))\n",
        "        model.add(layers.Activation(\"relu\"))\n",
        "        model.add(layers.MaxPooling2D((2,2)))\n",
        "        model.add(layers.Conv2D(16, (5, 5)))\n",
        "        model.add(layers.Activation(\"relu\"))\n",
        "        model.add(layers.MaxPooling2D((2,2)))\n",
        "        model.add(layers.Flatten())\n",
        "        model.add(layers.Dense(120))\n",
        "        model.add(layers.Activation(\"relu\"))\n",
        "        model.add(layers.Dense(84))\n",
        "        model.add(layers.Activation(\"relu\"))\n",
        "        model.add(layers.Dense(classes))\n",
        "        model.add(layers.Activation(\"softmax\"))\n",
        "        return model"
      ]
    },
    {
      "cell_type": "code",
      "source": [
        "\"\"\"\n",
        "Treina uma CNN com o dataset MNIST.\n",
        "A CNN é inspirada na arquitetura LeNet-5, com algumas\n",
        "alterações nas funções de ativação, padding e pooling.\n",
        "\"\"\"\n",
        "import numpy as np\n",
        "import matplotlib.pyplot as plt\n",
        "from tensorflow.keras.utils import to_categorical\n",
        "from tensorflow.keras.optimizers import SGD\n",
        "from tensorflow.keras import backend\n",
        "from sklearn.datasets import fetch_openml\n",
        "from sklearn.model_selection import train_test_split\n",
        "from sklearn.metrics import classification_report\n",
        "\n",
        "dataset = fetch_openml('mnist_784')\n",
        "data = np.array(dataset.data, dtype=\"float32\") / 255.0\n",
        "labels = dataset.target.astype(\"int\")"
      ],
      "metadata": {
        "colab": {
          "base_uri": "https://localhost:8080/"
        },
        "id": "z8wa64eudLfF",
        "outputId": "c5006a0e-b3bb-4930-a86d-1a9b176f9f56"
      },
      "execution_count": 19,
      "outputs": [
        {
          "output_type": "stream",
          "name": "stderr",
          "text": [
            "/usr/local/lib/python3.10/dist-packages/sklearn/datasets/_openml.py:968: FutureWarning: The default value of `parser` will change from `'liac-arff'` to `'auto'` in 1.4. You can set `parser='auto'` to silence this warning. Therefore, an `ImportError` will be raised from 1.4 if the dataset is dense and pandas is not installed. Note that the pandas parser may return different data types. See the Notes Section in fetch_openml's API doc for details.\n",
            "  warn(\n"
          ]
        }
      ]
    },
    {
      "cell_type": "code",
      "source": [
        "if backend.image_data_format() == \"channels_last\":\n",
        "    data = data.reshape((data.shape[0], 28, 28, 1))\n",
        "else:\n",
        "    data = data.reshape((data.shape[0], 1, 28, 28))"
      ],
      "metadata": {
        "id": "-zQWq99ifCAl"
      },
      "execution_count": 20,
      "outputs": []
    },
    {
      "cell_type": "code",
      "source": [
        "# dividir o dataset entre train (75%) e test (25%)\n",
        "(trainX, testX, trainY, testY) = train_test_split(data, labels)\n",
        "# Transformar labels em vetores binarios\n",
        "trainY = to_categorical(trainY, 10)\n",
        "testY = to_categorical(testY, 10)"
      ],
      "metadata": {
        "id": "0SBNaxmVgAoO"
      },
      "execution_count": 21,
      "outputs": []
    },
    {
      "cell_type": "code",
      "source": [
        "# inicializar e otimizar modelo\n",
        "print(\"[INFO] inicializando e otimizando a CNN...\")\n",
        "model = LeNet5.build(28, 28, 1, 10)\n",
        "model.compile(optimizer=SGD(0.01), loss=\"categorical_crossentropy\",\n",
        "              metrics=[\"accuracy\"])"
      ],
      "metadata": {
        "colab": {
          "base_uri": "https://localhost:8080/"
        },
        "id": "KyttkAqggDSM",
        "outputId": "2d4adbc8-6162-476d-9421-04d5b285807c"
      },
      "execution_count": 22,
      "outputs": [
        {
          "output_type": "stream",
          "name": "stdout",
          "text": [
            "[INFO] inicializando e otimizando a CNN...\n"
          ]
        }
      ]
    },
    {
      "cell_type": "code",
      "source": [
        "# Início da medição de tempo\n",
        "start_time = time.time()"
      ],
      "metadata": {
        "id": "thVaYSA9mSBX"
      },
      "execution_count": 23,
      "outputs": []
    },
    {
      "cell_type": "code",
      "source": [
        "# treinar a CNN\n",
        "print(\"[INFO] treinando a CNN...\")\n",
        "H = model.fit(trainX, trainY, batch_size=128, epochs=20, verbose=2,\n",
        "          validation_data=(testX, testY))"
      ],
      "metadata": {
        "colab": {
          "base_uri": "https://localhost:8080/"
        },
        "id": "IrYaO86CmP-9",
        "outputId": "22edf6f1-e6c6-45a2-b692-6251833bc198"
      },
      "execution_count": 24,
      "outputs": [
        {
          "output_type": "stream",
          "name": "stdout",
          "text": [
            "[INFO] treinando a CNN...\n",
            "Epoch 1/20\n",
            "411/411 - 31s - loss: 1.3498 - accuracy: 0.6122 - val_loss: 0.5731 - val_accuracy: 0.8220 - 31s/epoch - 75ms/step\n",
            "Epoch 2/20\n",
            "411/411 - 28s - loss: 0.3171 - accuracy: 0.9057 - val_loss: 0.2569 - val_accuracy: 0.9239 - 28s/epoch - 68ms/step\n",
            "Epoch 3/20\n",
            "411/411 - 30s - loss: 0.2225 - accuracy: 0.9324 - val_loss: 0.2510 - val_accuracy: 0.9199 - 30s/epoch - 73ms/step\n",
            "Epoch 4/20\n",
            "411/411 - 30s - loss: 0.1798 - accuracy: 0.9454 - val_loss: 0.2346 - val_accuracy: 0.9283 - 30s/epoch - 73ms/step\n",
            "Epoch 5/20\n",
            "411/411 - 28s - loss: 0.1512 - accuracy: 0.9540 - val_loss: 0.1520 - val_accuracy: 0.9527 - 28s/epoch - 67ms/step\n",
            "Epoch 6/20\n",
            "411/411 - 28s - loss: 0.1342 - accuracy: 0.9595 - val_loss: 0.1564 - val_accuracy: 0.9519 - 28s/epoch - 67ms/step\n",
            "Epoch 7/20\n",
            "411/411 - 29s - loss: 0.1206 - accuracy: 0.9636 - val_loss: 0.1501 - val_accuracy: 0.9525 - 29s/epoch - 70ms/step\n",
            "Epoch 8/20\n",
            "411/411 - 29s - loss: 0.1103 - accuracy: 0.9663 - val_loss: 0.1311 - val_accuracy: 0.9582 - 29s/epoch - 71ms/step\n",
            "Epoch 9/20\n",
            "411/411 - 28s - loss: 0.1009 - accuracy: 0.9697 - val_loss: 0.1668 - val_accuracy: 0.9474 - 28s/epoch - 67ms/step\n",
            "Epoch 10/20\n",
            "411/411 - 29s - loss: 0.0951 - accuracy: 0.9710 - val_loss: 0.1055 - val_accuracy: 0.9674 - 29s/epoch - 70ms/step\n",
            "Epoch 11/20\n",
            "411/411 - 30s - loss: 0.0892 - accuracy: 0.9731 - val_loss: 0.1385 - val_accuracy: 0.9545 - 30s/epoch - 73ms/step\n",
            "Epoch 12/20\n",
            "411/411 - 30s - loss: 0.0841 - accuracy: 0.9742 - val_loss: 0.1365 - val_accuracy: 0.9552 - 30s/epoch - 73ms/step\n",
            "Epoch 13/20\n",
            "411/411 - 27s - loss: 0.0795 - accuracy: 0.9757 - val_loss: 0.0890 - val_accuracy: 0.9729 - 27s/epoch - 66ms/step\n",
            "Epoch 14/20\n",
            "411/411 - 31s - loss: 0.0761 - accuracy: 0.9766 - val_loss: 0.1005 - val_accuracy: 0.9682 - 31s/epoch - 76ms/step\n",
            "Epoch 15/20\n",
            "411/411 - 29s - loss: 0.0730 - accuracy: 0.9778 - val_loss: 0.0835 - val_accuracy: 0.9729 - 29s/epoch - 72ms/step\n",
            "Epoch 16/20\n",
            "411/411 - 31s - loss: 0.0693 - accuracy: 0.9786 - val_loss: 0.0814 - val_accuracy: 0.9745 - 31s/epoch - 75ms/step\n",
            "Epoch 17/20\n",
            "411/411 - 31s - loss: 0.0662 - accuracy: 0.9793 - val_loss: 0.1051 - val_accuracy: 0.9664 - 31s/epoch - 75ms/step\n",
            "Epoch 18/20\n",
            "411/411 - 28s - loss: 0.0642 - accuracy: 0.9800 - val_loss: 0.0735 - val_accuracy: 0.9774 - 28s/epoch - 69ms/step\n",
            "Epoch 19/20\n",
            "411/411 - 28s - loss: 0.0618 - accuracy: 0.9812 - val_loss: 0.0757 - val_accuracy: 0.9761 - 28s/epoch - 69ms/step\n",
            "Epoch 20/20\n",
            "411/411 - 32s - loss: 0.0591 - accuracy: 0.9815 - val_loss: 0.0822 - val_accuracy: 0.9753 - 32s/epoch - 77ms/step\n"
          ]
        }
      ]
    },
    {
      "cell_type": "code",
      "source": [
        "# Fim da medição de tempo\n",
        "elapsed_time = time.time() - start_time\n",
        "print(f\"Tempo total de treinamento: {elapsed_time:.2f} segundos\")"
      ],
      "metadata": {
        "colab": {
          "base_uri": "https://localhost:8080/"
        },
        "id": "_reACFHSmctf",
        "outputId": "0cd469b2-0370-4b76-afa5-00bb3bdb47bf"
      },
      "execution_count": 25,
      "outputs": [
        {
          "output_type": "stream",
          "name": "stdout",
          "text": [
            "Tempo total de treinamento: 632.37 segundos\n"
          ]
        }
      ]
    },
    {
      "cell_type": "code",
      "source": [
        "# Início da medição de tempo para inferência\n",
        "start_time = time.time()"
      ],
      "metadata": {
        "id": "7ynQKJxPmlHk"
      },
      "execution_count": 26,
      "outputs": []
    },
    {
      "cell_type": "code",
      "source": [
        "# avaliar a CNN\n",
        "print(\"[INFO] avaliando a CNN...\")\n",
        "predictions = model.predict(testX, batch_size=64)\n",
        "print(classification_report(testY.argmax(axis=1), predictions.argmax(axis=1),\n",
        "                            target_names=[str(label) for label in range(10)]))"
      ],
      "metadata": {
        "colab": {
          "base_uri": "https://localhost:8080/"
        },
        "id": "Hg_qRrxiikq5",
        "outputId": "bd9f065a-905c-4bdd-936d-ed59e0be9ff7"
      },
      "execution_count": 27,
      "outputs": [
        {
          "output_type": "stream",
          "name": "stdout",
          "text": [
            "[INFO] avaliando a CNN...\n",
            "274/274 [==============================] - 4s 14ms/step\n",
            "              precision    recall  f1-score   support\n",
            "\n",
            "           0       0.99      0.99      0.99      1763\n",
            "           1       0.98      0.99      0.99      2013\n",
            "           2       0.97      0.98      0.98      1767\n",
            "           3       0.99      0.95      0.97      1772\n",
            "           4       0.95      0.99      0.97      1674\n",
            "           5       0.99      0.96      0.98      1544\n",
            "           6       0.98      0.99      0.98      1745\n",
            "           7       0.98      0.98      0.98      1783\n",
            "           8       0.94      0.97      0.96      1667\n",
            "           9       0.98      0.95      0.96      1772\n",
            "\n",
            "    accuracy                           0.98     17500\n",
            "   macro avg       0.98      0.98      0.98     17500\n",
            "weighted avg       0.98      0.98      0.98     17500\n",
            "\n"
          ]
        }
      ]
    },
    {
      "cell_type": "code",
      "source": [
        "# Fim da medição de tempo para inferência\n",
        "elapsed_time = time.time() - start_time\n",
        "print(f\"Tempo total de inferência: {elapsed_time:.2f} segundos\")"
      ],
      "metadata": {
        "colab": {
          "base_uri": "https://localhost:8080/"
        },
        "id": "chgNzlH_mqcF",
        "outputId": "3da79624-5f47-402b-9b1a-10672d6cd181"
      },
      "execution_count": 28,
      "outputs": [
        {
          "output_type": "stream",
          "name": "stdout",
          "text": [
            "Tempo total de inferência: 16.11 segundos\n"
          ]
        }
      ]
    },
    {
      "cell_type": "code",
      "source": [
        "# plotar loss e accuracy para os datasets 'train' e 'test'\n",
        "plt.style.use(\"ggplot\")\n",
        "plt.figure()\n",
        "\n",
        "num_epochs = len(H.history['loss'])\n",
        "\n",
        "plt.plot(np.arange(0, num_epochs), H.history[\"loss\"], label=\"train_loss\")\n",
        "plt.plot(np.arange(0, num_epochs), H.history.get(\"val_loss\", []), label=\"val_loss\")\n",
        "\n",
        "plt.plot(np.arange(0, num_epochs), H.history[\"accuracy\"], label=\"train_acc\")\n",
        "plt.plot(np.arange(0, num_epochs), H.history.get(\"val_accuracy\", []), label=\"val_acc\")\n",
        "\n",
        "plt.title(\"Training Loss and Accuracy\")\n",
        "plt.xlabel(\"Epoch #\")\n",
        "plt.ylabel(\"Loss/Accuracy\")\n",
        "plt.legend()\n",
        "\n",
        "plt.savefig('cnn.png', bbox_inches='tight')"
      ],
      "metadata": {
        "colab": {
          "base_uri": "https://localhost:8080/",
          "height": 477
        },
        "id": "2T4A8e70jOBM",
        "outputId": "274f5dfb-3f04-45cf-8430-0e69bd61f6a4"
      },
      "execution_count": 29,
      "outputs": [
        {
          "output_type": "display_data",
          "data": {
            "text/plain": [
              "<Figure size 640x480 with 1 Axes>"
            ],
            "image/png": "[encoded data removed]"
          },
          "metadata": {}
        }
      ]
    }
  ]
}